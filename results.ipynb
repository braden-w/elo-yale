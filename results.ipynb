{
 "cells": [
  {
   "cell_type": "code",
   "execution_count": 1,
   "metadata": {},
   "outputs": [
    {
     "name": "stdout",
     "output_type": "stream",
     "text": [
      "Requirement already satisfied: setuptools==58 in /usr/local/lib/python3.10/site-packages (58.0.0)\n",
      "Requirement already satisfied: elo in /usr/local/lib/python3.10/site-packages (0.1.1)\n"
     ]
    }
   ],
   "source": [
    "import sys\n",
    "!{sys.executable} -m pip install setuptools==58\n",
    "!{sys.executable} -m pip install elo"
   ]
  },
  {
   "cell_type": "code",
   "execution_count": 2,
   "metadata": {},
   "outputs": [],
   "source": [
    "results = [('Benjamin Franklin College', 'Silliman College'), ('Branford College', 'Trumbull College'), ('Davenport College', 'Timothy Dwight College'), ('Ezra Stiles College', 'Silliman College'), ('Branford College', 'Jonathan Edwards College'), ('Grace Hopper College', 'Silliman College'), ('Benjamin Franklin College', 'Morse College'), ('Pierson College', 'Trumbull College'), ('Saybrook College', 'Pierson College'), ('Ezra Stiles College', 'Pierson College'), ('Benjamin Franklin College', 'Pauli Murray College'), ('Benjamin Franklin College', 'Saybrook College'), ('Berkeley College', 'Silliman College'), ('Morse College', 'Saybrook College'), ('Jonathan Edwards College', 'Timothy Dwight College'), ('Pierson College', 'Jonathan Edwards College'), ('Silliman College', 'Davenport College'), ('Jonathan Edwards College', 'Davenport College'), ('Morse College', 'Silliman College'), ('Berkeley College', 'Davenport College'), ('Silliman College', 'Timothy Dwight College'), ('Saybrook College', 'Timothy Dwight College'), ('Pauli Murray College', 'Davenport College'), ('Pauli Murray College', 'Silliman College'), ('Morse College', 'Pierson College'), ('Benjamin Franklin College', 'Ezra Stiles College'), ('Pauli Murray College', 'Trumbull College'), ('Grace Hopper College', 'Berkeley College'), ('Ezra Stiles College', 'Grace Hopper College'), ('Grace Hopper College', 'Branford College'), ('Ezra Stiles College', 'Timothy Dwight College'), ('Grace Hopper College', 'Saybrook College'), ('Silliman College', 'Pierson College'), ('Pauli Murray College', 'Jonathan Edwards College'), ('Berkeley College', 'Jonathan Edwards College'), ('Pauli Murray College', 'Saybrook College'), ('Ezra Stiles College', 'Davenport College'), ('Pauli Murray College', 'Timothy Dwight College'), ('Benjamin Franklin College', 'Timothy Dwight College'), ('Morse College', 'Branford College'), ('Berkeley College', 'Timothy Dwight College'), ('Morse College', 'Trumbull College'), ('Morse College', 'Berkeley College'), ('Berkeley College', 'Branford College'), ('Saybrook College', 'Jonathan Edwards College'), ('Ezra Stiles College', 'Berkeley College'), ('Grace Hopper College', 'Jonathan Edwards College'), ('Benjamin Franklin College', 'Pierson College'), ('Benjamin Franklin College', 'Berkeley College'), ('Pauli Murray College', 'Branford College'), ('Morse College', 'Timothy Dwight College'), ('Ezra Stiles College', 'Jonathan Edwards College'), ('Saybrook College', 'Branford College'), ('Berkeley College', 'Saybrook College'), ('Trumbull College', 'Timothy Dwight College'), ('Saybrook College', 'Davenport College'), ('Ezra Stiles College', 'Saybrook College'), ('Pierson College', 'Branford College'), ('Jonathan Edwards College', 'Trumbull College'), ('Saybrook College', 'Trumbull College'), ('Grace Hopper College', 'Trumbull College'), ('Branford College', 'Timothy Dwight College'), ('Silliman College', 'Jonathan Edwards College'), ('Pierson College', 'Davenport College'), ('Benjamin Franklin College', 'Branford College'), ('Pauli Murray College', 'Pierson College'), ('Pauli Murray College', 'Grace Hopper College'), ('Ezra Stiles College', 'Trumbull College'), ('Silliman College', 'Trumbull College'), ('Grace Hopper College', 'Pierson College'), ('Morse College', 'Grace Hopper College'), ('Benjamin Franklin College', 'Grace Hopper College'), ('Pauli Murray College', 'Ezra Stiles College'), ('Morse College', 'Ezra Stiles College'), ('Silliman College', 'Branford College'), ('Trumbull College', 'Davenport College'), ('Branford College', 'Davenport College'), ('Pauli Murray College', 'Morse College'), ('Silliman College', 'Saybrook College'), ('Benjamin Franklin College', 'Trumbull College'), ('Grace Hopper College', 'Timothy Dwight College'), ('Ezra Stiles College', 'Branford College'), ('Morse College', 'Davenport College'), ('Morse College', 'Jonathan Edwards College'), ('Berkeley College', 'Pierson College'), ('Pierson College', 'Timothy Dwight College'), ('Grace Hopper College', 'Davenport College'), ('Benjamin Franklin College', 'Jonathan Edwards College'), ('Berkeley College', 'Trumbull College'), ('Benjamin Franklin College', 'Davenport College'), ('Pauli Murray College', 'Berkeley College')]"
   ]
  },
  {
   "cell_type": "code",
   "execution_count": 3,
   "metadata": {},
   "outputs": [
    {
     "data": {
      "text/plain": [
       "['Benjamin Franklin College',\n",
       " 'Branford College',\n",
       " 'Davenport College',\n",
       " 'Ezra Stiles College',\n",
       " 'Branford College',\n",
       " 'Grace Hopper College',\n",
       " 'Benjamin Franklin College',\n",
       " 'Pierson College',\n",
       " 'Saybrook College',\n",
       " 'Ezra Stiles College',\n",
       " 'Benjamin Franklin College',\n",
       " 'Benjamin Franklin College',\n",
       " 'Berkeley College',\n",
       " 'Morse College',\n",
       " 'Jonathan Edwards College',\n",
       " 'Pierson College',\n",
       " 'Silliman College',\n",
       " 'Jonathan Edwards College',\n",
       " 'Morse College',\n",
       " 'Berkeley College',\n",
       " 'Silliman College',\n",
       " 'Saybrook College',\n",
       " 'Pauli Murray College',\n",
       " 'Pauli Murray College',\n",
       " 'Morse College',\n",
       " 'Benjamin Franklin College',\n",
       " 'Pauli Murray College',\n",
       " 'Grace Hopper College',\n",
       " 'Ezra Stiles College',\n",
       " 'Grace Hopper College',\n",
       " 'Ezra Stiles College',\n",
       " 'Grace Hopper College',\n",
       " 'Silliman College',\n",
       " 'Pauli Murray College',\n",
       " 'Berkeley College',\n",
       " 'Pauli Murray College',\n",
       " 'Ezra Stiles College',\n",
       " 'Pauli Murray College',\n",
       " 'Benjamin Franklin College',\n",
       " 'Morse College',\n",
       " 'Berkeley College',\n",
       " 'Morse College',\n",
       " 'Morse College',\n",
       " 'Berkeley College',\n",
       " 'Saybrook College',\n",
       " 'Ezra Stiles College',\n",
       " 'Grace Hopper College',\n",
       " 'Benjamin Franklin College',\n",
       " 'Benjamin Franklin College',\n",
       " 'Pauli Murray College',\n",
       " 'Morse College',\n",
       " 'Ezra Stiles College',\n",
       " 'Saybrook College',\n",
       " 'Berkeley College',\n",
       " 'Trumbull College',\n",
       " 'Saybrook College',\n",
       " 'Ezra Stiles College',\n",
       " 'Pierson College',\n",
       " 'Jonathan Edwards College',\n",
       " 'Saybrook College',\n",
       " 'Grace Hopper College',\n",
       " 'Branford College',\n",
       " 'Silliman College',\n",
       " 'Pierson College',\n",
       " 'Benjamin Franklin College',\n",
       " 'Pauli Murray College',\n",
       " 'Pauli Murray College',\n",
       " 'Ezra Stiles College',\n",
       " 'Silliman College',\n",
       " 'Grace Hopper College',\n",
       " 'Morse College',\n",
       " 'Benjamin Franklin College',\n",
       " 'Pauli Murray College',\n",
       " 'Morse College',\n",
       " 'Silliman College',\n",
       " 'Trumbull College',\n",
       " 'Branford College',\n",
       " 'Pauli Murray College',\n",
       " 'Silliman College',\n",
       " 'Benjamin Franklin College',\n",
       " 'Grace Hopper College',\n",
       " 'Ezra Stiles College',\n",
       " 'Morse College',\n",
       " 'Morse College',\n",
       " 'Berkeley College',\n",
       " 'Pierson College',\n",
       " 'Grace Hopper College',\n",
       " 'Benjamin Franklin College',\n",
       " 'Berkeley College',\n",
       " 'Benjamin Franklin College',\n",
       " 'Pauli Murray College']"
      ]
     },
     "execution_count": 3,
     "metadata": {},
     "output_type": "execute_result"
    }
   ],
   "source": [
    "# Get first element of each tuple\n",
    "first = [x[0] for x in results]\n",
    "first"
   ]
  },
  {
   "cell_type": "code",
   "execution_count": 4,
   "metadata": {},
   "outputs": [
    {
     "data": {
      "text/plain": [
       "Counter({'Benjamin Franklin College': 13,\n",
       "         'Branford College': 4,\n",
       "         'Davenport College': 1,\n",
       "         'Ezra Stiles College': 10,\n",
       "         'Grace Hopper College': 9,\n",
       "         'Pierson College': 5,\n",
       "         'Saybrook College': 6,\n",
       "         'Berkeley College': 8,\n",
       "         'Morse College': 11,\n",
       "         'Jonathan Edwards College': 3,\n",
       "         'Silliman College': 7,\n",
       "         'Pauli Murray College': 12,\n",
       "         'Trumbull College': 2})"
      ]
     },
     "execution_count": 4,
     "metadata": {},
     "output_type": "execute_result"
    }
   ],
   "source": [
    "# Get frequency of each element\n",
    "from collections import Counter\n",
    "Counter(first)"
   ]
  },
  {
   "cell_type": "code",
   "execution_count": 14,
   "metadata": {},
   "outputs": [
    {
     "data": {
      "text/plain": [
       "[('Benjamin Franklin College', 1058.090304585203),\n",
       " ('Pauli Murray College', 1052.1063422981895),\n",
       " ('Morse College', 1041.489151612611),\n",
       " ('Ezra Stiles College', 1031.5780834166492),\n",
       " ('Grace Hopper College', 1022.0743551131216),\n",
       " ('Berkeley College', 1013.5228143821097),\n",
       " ('Silliman College', 1005.8661179944246),\n",
       " ('Saybrook College', 995.369844256911),\n",
       " ('Pierson College', 985.9062101780848),\n",
       " ('Branford College', 976.6306527257084),\n",
       " ('Jonathan Edwards College', 968.5551046094458),\n",
       " ('Trumbull College', 959.2994030089629),\n",
       " ('Davenport College', 949.0279743654735),\n",
       " ('Timothy Dwight College', 940.4836414531056)]"
      ]
     },
     "execution_count": 14,
     "metadata": {},
     "output_type": "execute_result"
    }
   ],
   "source": [
    "# Use an elo rating system to determine the best college using elo package\n",
    "from elo import rate_1vs1\n",
    "\n",
    "colleges = [\"Benjamin Franklin College\",\"Berkeley College\",\"Branford College\",\"Davenport College\",\"Ezra Stiles College\",\"Grace Hopper College\",\"Jonathan Edwards College\",\"Morse College\",\"Pauli Murray College\",\"Pierson College\",\"Saybrook College\",\"Silliman College\",\"Timothy Dwight College\",\"Trumbull College\"]\n",
    "# Initialize the elo ratings for each college at 1000\n",
    "elo = {college: 1000 for college in colleges}\n",
    "for (college, other_college) in results:\n",
    "    result = rate_1vs1(elo[college], elo[other_college])\n",
    "    elo[college] = result[0]\n",
    "    elo[other_college] = result[1]\n",
    "# Print elo sorted by value\n",
    "sorted(elo.items(), key=lambda x: x[1], reverse=True)\n"
   ]
  },
  {
   "cell_type": "code",
   "execution_count": 8,
   "metadata": {},
   "outputs": [],
   "source": [
    "results2 = [('Davenport College', 'Silliman College'), ('Silliman College', 'Ezra Stiles College'), ('Jonathan Edwards College', 'Saybrook College'), ('Silliman College', 'Morse College'), ('Saybrook College', 'Benjamin Franklin College'), ('Timothy Dwight College', 'Silliman College'), ('Silliman College', 'Pauli Murray College'), ('Timothy Dwight College', 'Grace Hopper College'), ('Grace Hopper College', 'Davenport College'), ('Silliman College', 'Grace Hopper College'), ('Trumbull College', 'Morse College'), ('Morse College', 'Ezra Stiles College'), ('Davenport College', 'Benjamin Franklin College'), ('Trumbull College', 'Ezra Stiles College'), ('Silliman College', 'Berkeley College'), ('Ezra Stiles College', 'Berkeley College'), ('Pierson College', 'Grace Hopper College'), ('Grace Hopper College', 'Ezra Stiles College'), ('Saybrook College', 'Ezra Stiles College'), ('Pauli Murray College', 'Davenport College'), ('Pierson College', 'Davenport College'), ('Trumbull College', 'Davenport College'), ('Timothy Dwight College', 'Ezra Stiles College'), ('Pierson College', 'Jonathan Edwards College'), ('Morse College', 'Benjamin Franklin College'), ('Trumbull College', 'Branford College'), ('Morse College', 'Grace Hopper College'), ('Jonathan Edwards College', 'Ezra Stiles College'), ('Pierson College', 'Branford College'), ('Trumbull College', 'Pauli Murray College'), ('Saybrook College', 'Morse College'), ('Pierson College', 'Ezra Stiles College'), ('Timothy Dwight College', 'Benjamin Franklin College'), ('Jonathan Edwards College', 'Benjamin Franklin College'), ('Pauli Murray College', 'Benjamin Franklin College'), ('Grace Hopper College', 'Benjamin Franklin College'), ('Saybrook College', 'Grace Hopper College'), ('Pierson College', 'Pauli Murray College'), ('Timothy Dwight College', 'Saybrook College'), ('Trumbull College', 'Timothy Dwight College'), ('Pierson College', 'Benjamin Franklin College'), ('Morse College', 'Davenport College'), ('Timothy Dwight College', 'Pierson College'), ('Timothy Dwight College', 'Jonathan Edwards College'), ('Trumbull College', 'Saybrook College'), ('Trumbull College', 'Silliman College'), ('Pauli Murray College', 'Morse College'), ('Timothy Dwight College', 'Branford College'), ('Trumbull College', 'Grace Hopper College'), ('Ezra Stiles College', 'Davenport College'), ('Trumbull College', 'Benjamin Franklin College'), ('Timothy Dwight College', 'Pauli Murray College'), ('Saybrook College', 'Pierson College'), ('Branford College', 'Berkeley College'), ('Grace Hopper College', 'Berkeley College'), ('Ezra Stiles College', 'Benjamin Franklin College'), ('Pauli Murray College', 'Berkeley College'), ('Silliman College', 'Branford College'), ('Pauli Murray College', 'Jonathan Edwards College'), ('Saybrook College', 'Branford College'), ('Berkeley College', 'Saybrook College'), ('Branford College', 'Morse College'), ('Jonathan Edwards College', 'Trumbull College'), ('Davenport College', 'Timothy Dwight College'), ('Silliman College', 'Saybrook College'), ('Pauli Murray College', 'Saybrook College'), ('Morse College', 'Timothy Dwight College'), ('Silliman College', 'Pierson College'), ('Davenport College', 'Jonathan Edwards College'), ('Davenport College', 'Berkeley College'), ('Benjamin Franklin College', 'Branford College'), ('Ezra Stiles College', 'Branford College'), ('Berkeley College', 'Trumbull College'), ('Benjamin Franklin College', 'Silliman College'), ('Pauli Murray College', 'Grace Hopper College'), ('Branford College', 'Pauli Murray College'), ('Timothy Dwight College', 'Berkeley College'), ('Jonathan Edwards College', 'Silliman College'), ('Pierson College', 'Morse College'), ('Morse College', 'Berkeley College'), ('Branford College', 'Grace Hopper College'), ('Jonathan Edwards College', 'Grace Hopper College'), ('Morse College', 'Jonathan Edwards College'), ('Jonathan Edwards College', 'Berkeley College'), ('Branford College', 'Davenport College'), ('Davenport College', 'Saybrook College'), ('Jonathan Edwards College', 'Branford College'), ('Pauli Murray College', 'Ezra Stiles College'), ('Benjamin Franklin College', 'Berkeley College'), ('Trumbull College', 'Pierson College'), ('Berkeley College', 'Pierson College')]"
   ]
  },
  {
   "cell_type": "code",
   "execution_count": 10,
   "metadata": {},
   "outputs": [
    {
     "data": {
      "text/plain": [
       "[('Benjamin Franklin College', 13),\n",
       " ('Pauli Murray College', 11),\n",
       " ('Morse College', 9),\n",
       " ('Ezra Stiles College', 7),\n",
       " ('Grace Hopper College', 5),\n",
       " ('Berkeley College', 3),\n",
       " ('Silliman College', 1),\n",
       " ('Saybrook College', -1),\n",
       " ('Pierson College', -3),\n",
       " ('Branford College', -5),\n",
       " ('Jonathan Edwards College', -7),\n",
       " ('Trumbull College', -9),\n",
       " ('Davenport College', -11),\n",
       " ('Timothy Dwight College', -13)]"
      ]
     },
     "execution_count": 10,
     "metadata": {},
     "output_type": "execute_result"
    }
   ],
   "source": [
    "\n",
    "# Use an elo rating system to determine the best college using our own implementation (+1, -1)\n",
    "colleges = [\"Benjamin Franklin College\",\"Berkeley College\",\"Branford College\",\"Davenport College\",\"Ezra Stiles College\",\"Grace Hopper College\",\"Jonathan Edwards College\",\"Morse College\",\"Pauli Murray College\",\"Pierson College\",\"Saybrook College\",\"Silliman College\",\"Timothy Dwight College\",\"Trumbull College\"]\n",
    "\n",
    "# add_college = input(\"Enter a college for Timothy Dwight College to beat: \")\n",
    "# n = input(f\"How many times do you want to add Timothy Dwight College beating {add_college} to the list? \")\n",
    "# for i in range(0, int(n)):\n",
    "#     results.append(('Timothy Dwight College', add_college))\n",
    "#     results.append(('Benjamin Franklin College', 'Silliman College'))\n",
    "#     results.append(('Benjamin Franklin College', 'Trumbull College'))\n",
    "# Initialize the elo ratings for each college at 0\n",
    "elo = {college: 0 for college in colleges}\n",
    "for (college, other_college) in results:\n",
    "    elo[college] += 1\n",
    "    elo[other_college] -= 1\n",
    "# Print elo sorted by value\n",
    "# elo\n",
    "sorted(elo.items(), key=lambda x: x[1], reverse=True)\n"
   ]
  },
  {
   "cell_type": "code",
   "execution_count": 18,
   "metadata": {},
   "outputs": [
    {
     "name": "stdout",
     "output_type": "stream",
     "text": [
      "Requirement already satisfied: socialchoice in /usr/local/lib/python3.10/site-packages (0.0.12)\n",
      "Requirement already satisfied: scipy in /usr/local/lib/python3.10/site-packages (from socialchoice) (1.9.1)\n",
      "Requirement already satisfied: networkx in /usr/local/lib/python3.10/site-packages (from socialchoice) (2.8.6)\n",
      "Requirement already satisfied: pytest in /usr/local/lib/python3.10/site-packages (from socialchoice) (7.1.3)\n",
      "Requirement already satisfied: pluggy<2.0,>=0.12 in /usr/local/lib/python3.10/site-packages (from pytest->socialchoice) (1.0.0)\n",
      "Requirement already satisfied: packaging in /Users/braden/Library/Python/3.10/lib/python/site-packages (from pytest->socialchoice) (21.3)\n",
      "Requirement already satisfied: tomli>=1.0.0 in /usr/local/lib/python3.10/site-packages (from pytest->socialchoice) (2.0.1)\n",
      "Requirement already satisfied: attrs>=19.2.0 in /usr/local/lib/python3.10/site-packages (from pytest->socialchoice) (22.1.0)\n",
      "Requirement already satisfied: iniconfig in /usr/local/lib/python3.10/site-packages (from pytest->socialchoice) (1.1.1)\n",
      "Requirement already satisfied: py>=1.8.2 in /usr/local/lib/python3.10/site-packages (from pytest->socialchoice) (1.11.0)\n",
      "Requirement already satisfied: numpy<1.25.0,>=1.18.5 in /usr/local/lib/python3.10/site-packages (from scipy->socialchoice) (1.23.3)\n",
      "Requirement already satisfied: pyparsing!=3.0.5,>=2.0.2 in /Users/braden/Library/Python/3.10/lib/python/site-packages (from packaging->pytest->socialchoice) (3.0.9)\n"
     ]
    }
   ],
   "source": [
    "!{sys.executable} -m pip install socialchoice\n",
    "\n",
    "from socialchoice import PairwiseBallotBox, Election"
   ]
  },
  {
   "cell_type": "code",
   "execution_count": 19,
   "metadata": {},
   "outputs": [
    {
     "data": {
      "text/plain": [
       "['Benjamin Franklin College',\n",
       " 'Pauli Murray College',\n",
       " 'Morse College',\n",
       " 'Ezra Stiles College',\n",
       " 'Grace Hopper College',\n",
       " 'Berkeley College',\n",
       " 'Silliman College',\n",
       " 'Saybrook College',\n",
       " 'Pierson College',\n",
       " 'Branford College',\n",
       " 'Jonathan Edwards College',\n",
       " 'Trumbull College',\n",
       " 'Davenport College',\n",
       " 'Timothy Dwight College']"
      ]
     },
     "execution_count": 19,
     "metadata": {},
     "output_type": "execute_result"
    }
   ],
   "source": [
    "# Store results with a \"win\" added to the end of each tuple\n",
    "win_results = [(x[0], x[1], \"win\") for x in results]\n",
    "pairwise_ballots = PairwiseBallotBox(win_results)\n",
    "election = Election(pairwise_ballots)\n",
    "election.ranking_by_ranked_pairs()\n"
   ]
  }
 ],
 "metadata": {
  "kernelspec": {
   "display_name": "Python 3.10.6 64-bit",
   "language": "python",
   "name": "python3"
  },
  "language_info": {
   "codemirror_mode": {
    "name": "ipython",
    "version": 3
   },
   "file_extension": ".py",
   "mimetype": "text/x-python",
   "name": "python",
   "nbconvert_exporter": "python",
   "pygments_lexer": "ipython3",
   "version": "3.10.6"
  },
  "orig_nbformat": 4,
  "vscode": {
   "interpreter": {
    "hash": "aee8b7b246df8f9039afb4144a1f6fd8d2ca17a180786b69acc140d282b71a49"
   }
  }
 },
 "nbformat": 4,
 "nbformat_minor": 2
}
