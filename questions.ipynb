{
 "cells": [
  {
   "cell_type": "code",
   "execution_count": null,
   "metadata": {},
   "outputs": [],
   "source": [
    "comparisons = []\n",
    "colleges = [\"Benjamin Franklin College\",\"Berkeley College\",\"Branford College\",\"Davenport College\",\"Ezra Stiles College\",\"Grace Hopper College\",\"Jonathan Edwards College\",\"Morse College\",\"Pauli Murray College\",\"Pierson College\",\"Saybrook College\",\"Silliman College\",\"Timothy Dwight College\",\"Trumbull College\"]\n",
    "for college_index in range(len(colleges)):\n",
    "\tfor other_college_index in range(college_index+1,len(colleges)):\n",
    "\t\tcomparison = (colleges[college_index], colleges[other_college_index])\n",
    "\t\tcomparisons.append(comparison)\n",
    "print(len(comparisons))\n",
    "results = []\n",
    "# Randomize comparisons array\n",
    "import random\n",
    "random.shuffle(comparisons)\n",
    "for comparison in comparisons:\n",
    "\t(college, college2) = comparison\n",
    "\tquestion = f\"{college} versus {college2}\"\n",
    "\tif input(question) == \"1\":\n",
    "\t\tresults.append((college, college2))\n",
    "\telse:\n",
    "\t\tresults.append((college2, college))\n",
    "print(results)"
   ]
  }
 ],
 "metadata": {
  "kernelspec": {
   "display_name": "Python 3.10.6 64-bit",
   "language": "python",
   "name": "python3"
  },
  "language_info": {
   "name": "python",
   "version": "3.10.6"
  },
  "orig_nbformat": 4,
  "vscode": {
   "interpreter": {
    "hash": "aee8b7b246df8f9039afb4144a1f6fd8d2ca17a180786b69acc140d282b71a49"
   }
  }
 },
 "nbformat": 4,
 "nbformat_minor": 2
}
