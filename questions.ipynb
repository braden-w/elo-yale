{
 "cells": [
  {
   "cell_type": "code",
   "execution_count": 1,
   "metadata": {},
   "outputs": [
    {
     "name": "stdout",
     "output_type": "stream",
     "text": [
      "91\n",
      "[('Davenport College', 'Silliman College'), ('Silliman College', 'Ezra Stiles College'), ('Jonathan Edwards College', 'Saybrook College'), ('Silliman College', 'Morse College'), ('Saybrook College', 'Benjamin Franklin College'), ('Timothy Dwight College', 'Silliman College'), ('Silliman College', 'Pauli Murray College'), ('Timothy Dwight College', 'Grace Hopper College'), ('Grace Hopper College', 'Davenport College'), ('Silliman College', 'Grace Hopper College'), ('Trumbull College', 'Morse College'), ('Morse College', 'Ezra Stiles College'), ('Davenport College', 'Benjamin Franklin College'), ('Trumbull College', 'Ezra Stiles College'), ('Silliman College', 'Berkeley College'), ('Ezra Stiles College', 'Berkeley College'), ('Pierson College', 'Grace Hopper College'), ('Grace Hopper College', 'Ezra Stiles College'), ('Saybrook College', 'Ezra Stiles College'), ('Pauli Murray College', 'Davenport College'), ('Pierson College', 'Davenport College'), ('Trumbull College', 'Davenport College'), ('Timothy Dwight College', 'Ezra Stiles College'), ('Pierson College', 'Jonathan Edwards College'), ('Morse College', 'Benjamin Franklin College'), ('Trumbull College', 'Branford College'), ('Morse College', 'Grace Hopper College'), ('Jonathan Edwards College', 'Ezra Stiles College'), ('Pierson College', 'Branford College'), ('Trumbull College', 'Pauli Murray College'), ('Saybrook College', 'Morse College'), ('Pierson College', 'Ezra Stiles College'), ('Timothy Dwight College', 'Benjamin Franklin College'), ('Jonathan Edwards College', 'Benjamin Franklin College'), ('Pauli Murray College', 'Benjamin Franklin College'), ('Grace Hopper College', 'Benjamin Franklin College'), ('Saybrook College', 'Grace Hopper College'), ('Pierson College', 'Pauli Murray College'), ('Timothy Dwight College', 'Saybrook College'), ('Trumbull College', 'Timothy Dwight College'), ('Pierson College', 'Benjamin Franklin College'), ('Morse College', 'Davenport College'), ('Timothy Dwight College', 'Pierson College'), ('Timothy Dwight College', 'Jonathan Edwards College'), ('Trumbull College', 'Saybrook College'), ('Trumbull College', 'Silliman College'), ('Pauli Murray College', 'Morse College'), ('Timothy Dwight College', 'Branford College'), ('Trumbull College', 'Grace Hopper College'), ('Ezra Stiles College', 'Davenport College'), ('Trumbull College', 'Benjamin Franklin College'), ('Timothy Dwight College', 'Pauli Murray College'), ('Saybrook College', 'Pierson College'), ('Branford College', 'Berkeley College'), ('Grace Hopper College', 'Berkeley College'), ('Ezra Stiles College', 'Benjamin Franklin College'), ('Pauli Murray College', 'Berkeley College'), ('Silliman College', 'Branford College'), ('Pauli Murray College', 'Jonathan Edwards College'), ('Saybrook College', 'Branford College'), ('Berkeley College', 'Saybrook College'), ('Branford College', 'Morse College'), ('Jonathan Edwards College', 'Trumbull College'), ('Davenport College', 'Timothy Dwight College'), ('Silliman College', 'Saybrook College'), ('Pauli Murray College', 'Saybrook College'), ('Morse College', 'Timothy Dwight College'), ('Silliman College', 'Pierson College'), ('Davenport College', 'Jonathan Edwards College'), ('Davenport College', 'Berkeley College'), ('Benjamin Franklin College', 'Branford College'), ('Ezra Stiles College', 'Branford College'), ('Berkeley College', 'Trumbull College'), ('Benjamin Franklin College', 'Silliman College'), ('Pauli Murray College', 'Grace Hopper College'), ('Branford College', 'Pauli Murray College'), ('Timothy Dwight College', 'Berkeley College'), ('Jonathan Edwards College', 'Silliman College'), ('Pierson College', 'Morse College'), ('Morse College', 'Berkeley College'), ('Branford College', 'Grace Hopper College'), ('Jonathan Edwards College', 'Grace Hopper College'), ('Morse College', 'Jonathan Edwards College'), ('Jonathan Edwards College', 'Berkeley College'), ('Branford College', 'Davenport College'), ('Davenport College', 'Saybrook College'), ('Jonathan Edwards College', 'Branford College'), ('Pauli Murray College', 'Ezra Stiles College'), ('Benjamin Franklin College', 'Berkeley College'), ('Trumbull College', 'Pierson College'), ('Berkeley College', 'Pierson College')]\n"
     ]
    }
   ],
   "source": [
    "comparisons = []\n",
    "colleges = [\"Benjamin Franklin College\",\"Berkeley College\",\"Branford College\",\"Davenport College\",\"Ezra Stiles College\",\"Grace Hopper College\",\"Jonathan Edwards College\",\"Morse College\",\"Pauli Murray College\",\"Pierson College\",\"Saybrook College\",\"Silliman College\",\"Timothy Dwight College\",\"Trumbull College\"]\n",
    "for college_index in range(len(colleges)):\n",
    "\tfor other_college_index in range(college_index+1,len(colleges)):\n",
    "\t\tcomparison = (colleges[college_index], colleges[other_college_index])\n",
    "\t\tcomparisons.append(comparison)\n",
    "print(len(comparisons))\n",
    "results = []\n",
    "# Randomize comparisons array\n",
    "import random\n",
    "random.shuffle(comparisons)\n",
    "for comparison in comparisons:\n",
    "\t(college, college2) = comparison\n",
    "\tquestion = f\"{college} versus {college2}\"\n",
    "\tif input(question) == \"1\":\n",
    "\t\tresults.append((college, college2))\n",
    "\telse:\n",
    "\t\tresults.append((college2, college))\n",
    "print(results)"
   ]
  }
 ],
 "metadata": {
  "kernelspec": {
   "display_name": "Python 3.10.6 64-bit",
   "language": "python",
   "name": "python3"
  },
  "language_info": {
   "codemirror_mode": {
    "name": "ipython",
    "version": 3
   },
   "file_extension": ".py",
   "mimetype": "text/x-python",
   "name": "python",
   "nbconvert_exporter": "python",
   "pygments_lexer": "ipython3",
   "version": "3.10.8"
  },
  "orig_nbformat": 4,
  "vscode": {
   "interpreter": {
    "hash": "aee8b7b246df8f9039afb4144a1f6fd8d2ca17a180786b69acc140d282b71a49"
   }
  }
 },
 "nbformat": 4,
 "nbformat_minor": 2
}
